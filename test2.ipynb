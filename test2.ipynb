{
 "cells": [
  {
   "cell_type": "code",
   "execution_count": 1,
   "metadata": {},
   "outputs": [],
   "source": [
    "import pandas as pd\n",
    "import matplotlib.pyplot as plt\n",
    "plt.rcParams[\"figure.figsize\"]=(20,5)\n"
   ]
  },
  {
   "cell_type": "code",
   "execution_count": 29,
   "metadata": {},
   "outputs": [],
   "source": [
    "\n",
    "dframe=pd.read_parquet(\"D:/Data_Files/NPCL_Data/Pardata.parquet\")\n",
    "df_name=pd.read_excel(\"D:/Data_Files/NPCL_NAMES.xlsx\")\n",
    "df23=pd.DataFrame({\n",
    "    \"a\":[1,2,3,4,5],\n",
    "    \"b\":\"harsh\"})"
   ]
  },
  {
   "cell_type": "code",
   "execution_count": 34,
   "metadata": {},
   "outputs": [],
   "source": [
    "filtered_rows = df_name[df_name['id'] == \"65336f58d96214.05717693\"]\n",
    "selected_name = filtered_rows[['name']]\n",
    "# selected_name.reset_index(inplace=True,drop=True)\n",
    "selected_name\n",
    "# df23['Name']=selected_name[\"name\"]\n",
    "df23['Name'] = selected_name['name'].iloc[0] if not selected_name.empty else None\n"
   ]
  },
  {
   "cell_type": "code",
   "execution_count": 37,
   "metadata": {},
   "outputs": [],
   "source": [
    "# df23"
   ]
  },
  {
   "cell_type": "code",
   "execution_count": 43,
   "metadata": {},
   "outputs": [],
   "source": [
    "\n",
    "df1=dframe.groupby('sensor')\n",
    "df2=df_name.groupby('id')\n",
    "for sensor, data in df1:\n",
    "    df=data\n",
    "    filtered_rows = df_name[df_name['id'] == sensor]\n",
    "    selected_name = filtered_rows[['name']]\n",
    "    df['Name'] = selected_name['name'].iloc[0] if not selected_name.empty else None\n",
    "     "
   ]
  },
  {
   "cell_type": "code",
   "execution_count": null,
   "metadata": {},
   "outputs": [],
   "source": []
  },
  {
   "cell_type": "code",
   "execution_count": 1,
   "metadata": {},
   "outputs": [
    {
     "name": "stdout",
     "output_type": "stream",
     "text": [
      "['01', '02', '03', '04', '05']\n"
     ]
    }
   ],
   "source": [
    "days = [1, 2, 3, 4, 5]\n",
    "\n",
    "formatted_dates = [str(day).zfill(2) for day in days]\n",
    "\n",
    "print(formatted_dates)\n"
   ]
  },
  {
   "cell_type": "code",
   "execution_count": null,
   "metadata": {},
   "outputs": [],
   "source": []
  }
 ],
 "metadata": {
  "kernelspec": {
   "display_name": "Python 3",
   "language": "python",
   "name": "python3"
  },
  "language_info": {
   "codemirror_mode": {
    "name": "ipython",
    "version": 3
   },
   "file_extension": ".py",
   "mimetype": "text/x-python",
   "name": "python",
   "nbconvert_exporter": "python",
   "pygments_lexer": "ipython3",
   "version": "3.11.5"
  }
 },
 "nbformat": 4,
 "nbformat_minor": 2
}
