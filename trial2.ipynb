{
 "cells": [
  {
   "cell_type": "code",
   "execution_count": 13,
   "metadata": {},
   "outputs": [],
   "source": [
    "import pandas as pd\n",
    "import numpy as np\n",
    "from datetime import datetime\n",
    "import warnings\n",
    "warnings.filterwarnings(\"ignore\")\n",
    "from pymongo import MongoClient\n",
    "from calendar import monthrange\n",
    "from sklearn.preprocessing import LabelEncoder\n"
   ]
  },
  {
   "cell_type": "code",
   "execution_count": 14,
   "metadata": {},
   "outputs": [],
   "source": [
    "df_whole=pd.read_parquet(\"d:/Data_Files/Data/Parquet/data_whole.parquet\")\n"
   ]
  },
  {
   "cell_type": "code",
   "execution_count": 15,
   "metadata": {},
   "outputs": [],
   "source": [
    "df_whole['creation_time']=pd.to_datetime(df_whole['creation_time'])"
   ]
  },
  {
   "cell_type": "code",
   "execution_count": null,
   "metadata": {},
   "outputs": [],
   "source": []
  },
  {
   "cell_type": "code",
   "execution_count": 17,
   "metadata": {},
   "outputs": [],
   "source": [
    "df1=df_whole[df_whole['location_id']==\"500000030009\"]\n",
    "df2=df_whole[df_whole['location_id']==\"500000040009\"]\n"
   ]
  },
  {
   "cell_type": "code",
   "execution_count": 18,
   "metadata": {},
   "outputs": [],
   "source": [
    "df = pd.concat((df1,df2))"
   ]
  },
  {
   "cell_type": "code",
   "execution_count": 19,
   "metadata": {},
   "outputs": [],
   "source": [
    "le = LabelEncoder()\n",
    "df['sensor'] = le.fit_transform(df['location_id'])"
   ]
  },
  {
   "cell_type": "code",
   "execution_count": 20,
   "metadata": {},
   "outputs": [
    {
     "data": {
      "text/html": [
       "<div>\n",
       "<style scoped>\n",
       "    .dataframe tbody tr th:only-of-type {\n",
       "        vertical-align: middle;\n",
       "    }\n",
       "\n",
       "    .dataframe tbody tr th {\n",
       "        vertical-align: top;\n",
       "    }\n",
       "\n",
       "    .dataframe thead th {\n",
       "        text-align: right;\n",
       "    }\n",
       "</style>\n",
       "<table border=\"1\" class=\"dataframe\">\n",
       "  <thead>\n",
       "    <tr style=\"text-align: right;\">\n",
       "      <th></th>\n",
       "      <th>location_id</th>\n",
       "      <th>creation_time</th>\n",
       "      <th>grid_reading_kwh</th>\n",
       "      <th>sensor</th>\n",
       "    </tr>\n",
       "  </thead>\n",
       "  <tbody>\n",
       "    <tr>\n",
       "      <th>0</th>\n",
       "      <td>500000030009</td>\n",
       "      <td>2021-04-30 23:59:59</td>\n",
       "      <td>45.0</td>\n",
       "      <td>0</td>\n",
       "    </tr>\n",
       "    <tr>\n",
       "      <th>71</th>\n",
       "      <td>500000030009</td>\n",
       "      <td>2021-05-01 00:02:25</td>\n",
       "      <td>45.0</td>\n",
       "      <td>0</td>\n",
       "    </tr>\n",
       "    <tr>\n",
       "      <th>148</th>\n",
       "      <td>500000030009</td>\n",
       "      <td>2021-05-01 00:04:55</td>\n",
       "      <td>45.0</td>\n",
       "      <td>0</td>\n",
       "    </tr>\n",
       "    <tr>\n",
       "      <th>223</th>\n",
       "      <td>500000030009</td>\n",
       "      <td>2021-05-01 00:07:26</td>\n",
       "      <td>45.0</td>\n",
       "      <td>0</td>\n",
       "    </tr>\n",
       "    <tr>\n",
       "      <th>298</th>\n",
       "      <td>500000030009</td>\n",
       "      <td>2021-05-01 00:09:55</td>\n",
       "      <td>45.0</td>\n",
       "      <td>0</td>\n",
       "    </tr>\n",
       "    <tr>\n",
       "      <th>...</th>\n",
       "      <td>...</td>\n",
       "      <td>...</td>\n",
       "      <td>...</td>\n",
       "      <td>...</td>\n",
       "    </tr>\n",
       "    <tr>\n",
       "      <th>39998238</th>\n",
       "      <td>500000040009</td>\n",
       "      <td>2022-03-24 16:06:48</td>\n",
       "      <td>4286.0</td>\n",
       "      <td>1</td>\n",
       "    </tr>\n",
       "    <tr>\n",
       "      <th>39998640</th>\n",
       "      <td>500000040009</td>\n",
       "      <td>2022-03-24 16:10:48</td>\n",
       "      <td>4286.0</td>\n",
       "      <td>1</td>\n",
       "    </tr>\n",
       "    <tr>\n",
       "      <th>39999025</th>\n",
       "      <td>500000040009</td>\n",
       "      <td>2022-03-24 16:14:43</td>\n",
       "      <td>4286.0</td>\n",
       "      <td>1</td>\n",
       "    </tr>\n",
       "    <tr>\n",
       "      <th>39999416</th>\n",
       "      <td>500000040009</td>\n",
       "      <td>2022-03-24 16:18:36</td>\n",
       "      <td>4286.0</td>\n",
       "      <td>1</td>\n",
       "    </tr>\n",
       "    <tr>\n",
       "      <th>39999814</th>\n",
       "      <td>500000040009</td>\n",
       "      <td>2022-03-24 16:22:33</td>\n",
       "      <td>4286.0</td>\n",
       "      <td>1</td>\n",
       "    </tr>\n",
       "  </tbody>\n",
       "</table>\n",
       "<p>271288 rows × 4 columns</p>\n",
       "</div>"
      ],
      "text/plain": [
       "           location_id       creation_time  grid_reading_kwh  sensor\n",
       "0         500000030009 2021-04-30 23:59:59              45.0       0\n",
       "71        500000030009 2021-05-01 00:02:25              45.0       0\n",
       "148       500000030009 2021-05-01 00:04:55              45.0       0\n",
       "223       500000030009 2021-05-01 00:07:26              45.0       0\n",
       "298       500000030009 2021-05-01 00:09:55              45.0       0\n",
       "...                ...                 ...               ...     ...\n",
       "39998238  500000040009 2022-03-24 16:06:48            4286.0       1\n",
       "39998640  500000040009 2022-03-24 16:10:48            4286.0       1\n",
       "39999025  500000040009 2022-03-24 16:14:43            4286.0       1\n",
       "39999416  500000040009 2022-03-24 16:18:36            4286.0       1\n",
       "39999814  500000040009 2022-03-24 16:22:33            4286.0       1\n",
       "\n",
       "[271288 rows x 4 columns]"
      ]
     },
     "execution_count": 20,
     "metadata": {},
     "output_type": "execute_result"
    }
   ],
   "source": [
    "df"
   ]
  },
  {
   "cell_type": "code",
   "execution_count": 37,
   "metadata": {},
   "outputs": [
    {
     "name": "stdout",
     "output_type": "stream",
     "text": [
      "['500000030009']\n",
      "['500000040009']\n"
     ]
    }
   ],
   "source": [
    "df1=df.groupby('sensor')\n",
    "for i , j in df1:\n",
    "    data=j\n",
    "    x=data['location_id'].unique()\n",
    "    print(x)"
   ]
  },
  {
   "cell_type": "code",
   "execution_count": 34,
   "metadata": {},
   "outputs": [],
   "source": [
    "client = MongoClient('mongodb://localhost:27017/')\n",
    "db = client['model']  \n",
    "collection1 = db['test_data'] "
   ]
  },
  {
   "cell_type": "code",
   "execution_count": 35,
   "metadata": {},
   "outputs": [],
   "source": [
    "for labeld_id , data in df1:\n",
    "    dframe=data\n",
    "    dframe.set_index(['creation_time'],inplace=True,drop=True)\n",
    "    # dframe.drop(['location_id'],axis=1,inplace=True)\n",
    "    sensor_id = dframe['location_id'].unique()\n",
    "    dframe['units']=dframe['grid_reading_kwh']-dframe['grid_reading_kwh'].shift(1)\n",
    "    dframe.drop(['grid_reading_kwh'],axis=1, inplace=True)\n",
    "    dfresample=dframe[['units']].resample(rule=\"7D\").sum()\n",
    "    dfresample.reset_index(inplace=True)\n",
    "    dfresample['label_id'] = labeld_id\n",
    "    dfresample['sensor_id'] = sensor_id[0]\n",
    "    data1 = dfresample.to_dict(orient='records')\n",
    "    sensor_id = id\n",
    "    id_data = { \"sensor_id\": sensor_id, \"data\": data1 }\n",
    "    \n",
    "    # collection1.insert_one(id_data)\n"
   ]
  },
  {
   "cell_type": "code",
   "execution_count": 40,
   "metadata": {},
   "outputs": [
    {
     "data": {
      "text/plain": [
       "Index(['creation_time', 'units', 'label_id', 'sensor_id'], dtype='object')"
      ]
     },
     "execution_count": 40,
     "metadata": {},
     "output_type": "execute_result"
    }
   ],
   "source": [
    "dfresample.columns"
   ]
  },
  {
   "cell_type": "code",
   "execution_count": null,
   "metadata": {},
   "outputs": [],
   "source": []
  },
  {
   "cell_type": "code",
   "execution_count": null,
   "metadata": {},
   "outputs": [],
   "source": [
    "records = dfresample.to_dict(orient='records')\n",
    "# records"
   ]
  },
  {
   "cell_type": "code",
   "execution_count": null,
   "metadata": {},
   "outputs": [],
   "source": [
    "\n",
    "cursor = collection1.find({\"sensor_id\":\"500000030009\"},{\"_id\":0,\"data\":1})\n",
    "# print(cursor)\n",
    "data_list = list(cursor)\n",
    "# print(data_list)\n",
    "\n"
   ]
  },
  {
   "cell_type": "code",
   "execution_count": null,
   "metadata": {},
   "outputs": [],
   "source": [
    "y=data_list[0]\n",
    "df=pd.DataFrame(y['data'])\n",
    "df.info()"
   ]
  },
  {
   "cell_type": "code",
   "execution_count": null,
   "metadata": {},
   "outputs": [],
   "source": [
    "x=data_list\n",
    "y=x[0]\n",
    "y['data']\n",
    "df=pd.DataFrame(y['data'])\n",
    "df"
   ]
  },
  {
   "cell_type": "code",
   "execution_count": null,
   "metadata": {},
   "outputs": [],
   "source": []
  },
  {
   "cell_type": "code",
   "execution_count": null,
   "metadata": {},
   "outputs": [],
   "source": []
  },
  {
   "cell_type": "code",
   "execution_count": null,
   "metadata": {},
   "outputs": [],
   "source": []
  },
  {
   "cell_type": "code",
   "execution_count": null,
   "metadata": {},
   "outputs": [],
   "source": []
  },
  {
   "cell_type": "code",
   "execution_count": null,
   "metadata": {},
   "outputs": [],
   "source": [
    "\n",
    "df = pd.DataFrame(data_list)\n",
    "print(df)"
   ]
  },
  {
   "cell_type": "code",
   "execution_count": null,
   "metadata": {},
   "outputs": [],
   "source": []
  },
  {
   "cell_type": "code",
   "execution_count": null,
   "metadata": {},
   "outputs": [],
   "source": [
    "df"
   ]
  },
  {
   "cell_type": "code",
   "execution_count": null,
   "metadata": {},
   "outputs": [],
   "source": [
    "x=collection1.find({\"id\":1})\n",
    "data=list(x)"
   ]
  },
  {
   "cell_type": "code",
   "execution_count": null,
   "metadata": {},
   "outputs": [],
   "source": [
    "data"
   ]
  },
  {
   "cell_type": "code",
   "execution_count": null,
   "metadata": {},
   "outputs": [],
   "source": [
    "client = MongoClient('mongodb://localhost:27017/')\n",
    "db = client['your_database_name']  \n",
    "collection = db['your_collection_name'] \n",
    "\n",
    "collection.insert_many(records)\n",
    "\n",
    "client.close()"
   ]
  },
  {
   "cell_type": "code",
   "execution_count": null,
   "metadata": {},
   "outputs": [],
   "source": []
  },
  {
   "cell_type": "code",
   "execution_count": null,
   "metadata": {},
   "outputs": [],
   "source": []
  },
  {
   "cell_type": "code",
   "execution_count": null,
   "metadata": {},
   "outputs": [],
   "source": []
  },
  {
   "cell_type": "code",
   "execution_count": null,
   "metadata": {},
   "outputs": [],
   "source": []
  },
  {
   "cell_type": "code",
   "execution_count": null,
   "metadata": {},
   "outputs": [],
   "source": []
  },
  {
   "cell_type": "code",
   "execution_count": null,
   "metadata": {},
   "outputs": [],
   "source": [
    "from calendar import monthrange\n",
    "date= 2023,12\n",
    "x=monthrange(date)\n",
    "x[1]"
   ]
  },
  {
   "cell_type": "code",
   "execution_count": null,
   "metadata": {},
   "outputs": [],
   "source": [
    "date= datetime.now()"
   ]
  },
  {
   "cell_type": "code",
   "execution_count": null,
   "metadata": {},
   "outputs": [],
   "source": [
    "month, year = date.month, date.year\n",
    "print(year,month)"
   ]
  },
  {
   "cell_type": "code",
   "execution_count": null,
   "metadata": {},
   "outputs": [],
   "source": [
    "year, month = 2024, 2\n",
    "x=monthrange(year,month)\n",
    "x[1]"
   ]
  },
  {
   "cell_type": "code",
   "execution_count": null,
   "metadata": {},
   "outputs": [],
   "source": [
    "x=monthrange(year,month)\n",
    "x=x[1]\n",
    "x"
   ]
  },
  {
   "cell_type": "code",
   "execution_count": null,
   "metadata": {},
   "outputs": [],
   "source": []
  },
  {
   "cell_type": "code",
   "execution_count": null,
   "metadata": {},
   "outputs": [],
   "source": [
    "# df.index = pd.to_datetime(df.index)\n",
    "\n",
    "start_date = '2021-05-01 00:00:00'\n",
    "end_date = '2021-05-01 23:00:00'\n",
    "df1 = df[(df.index >= start_date) & (df.index <= end_date)]"
   ]
  },
  {
   "cell_type": "code",
   "execution_count": null,
   "metadata": {},
   "outputs": [],
   "source": [
    "df1.loc[\"2021-05-01 01:00:00\", \"units\"] = 0.0"
   ]
  },
  {
   "cell_type": "code",
   "execution_count": null,
   "metadata": {},
   "outputs": [],
   "source": [
    "df1"
   ]
  },
  {
   "cell_type": "code",
   "execution_count": null,
   "metadata": {},
   "outputs": [],
   "source": [
    "# df1['units'].max()"
   ]
  },
  {
   "cell_type": "code",
   "execution_count": null,
   "metadata": {},
   "outputs": [],
   "source": [
    "max_kwh_row = df1.loc[df1['units'].idxmax()]\n"
   ]
  },
  {
   "cell_type": "code",
   "execution_count": null,
   "metadata": {},
   "outputs": [],
   "source": [
    "max_kwh_row."
   ]
  },
  {
   "cell_type": "code",
   "execution_count": null,
   "metadata": {},
   "outputs": [],
   "source": [
    "max_kwh_hour = max_kwh_row.name.hour\n",
    "print(max_kwh_hour)\n"
   ]
  },
  {
   "cell_type": "code",
   "execution_count": null,
   "metadata": {},
   "outputs": [],
   "source": [
    "for i in max_kwh_row:\n",
    "    print(i)"
   ]
  },
  {
   "cell_type": "code",
   "execution_count": null,
   "metadata": {},
   "outputs": [],
   "source": [
    "d={'data_pred': [{'hour': 0, 'pre_kwh': 635.5068}, {'hour': 1, 'pre_kwh': 637.5716}, \n",
    "                 {'hour': 2, 'pre_kwh': 570.1252}, {'hour': 3, 'pre_kwh': 573.8024}, \n",
    "               {'hour': 4, 'pre_kwh': 537.8399}, {'hour': 5, 'pre_kwh': 582.4214}, \n",
    "               {'hour': 6, 'pre_kwh': 776.1121}, {'hour': 7, 'pre_kwh': 552.3722}, \n",
    "               {'hour': 8, 'pre_kwh': 1127.8054}, {'hour': 9, 'pre_kwh': 1170.0236}, \n",
    "               {'hour': 10, 'pre_kwh': 1047.1904}, {'hour': 11, 'pre_kwh': 992.4147}, \n",
    "               {'hour': 12, 'pre_kwh': 975.7905}, {'hour': 13, 'pre_kwh': 773.0002}, \n",
    "               {'hour': 14, 'pre_kwh': 744.5787}, {'hour': 15, 'pre_kwh': 815.3971},\n",
    "                {'hour': 16, 'pre_kwh': 788.7074}, {'hour': 17, 'pre_kwh': 757.333}, \n",
    "                {'hour': 18, 'pre_kwh': 952.8865}, {'hour': 19, 'pre_kwh': 943.4596}, \n",
    "                {'hour': 20, 'pre_kwh': 1012.2806}, {'hour': 21, 'pre_kwh': 956.4885}, \n",
    "                {'hour': 22, 'pre_kwh': 924.4943}, {'hour': 23, 'pre_kwh': 677.61}]}"
   ]
  },
  {
   "cell_type": "code",
   "execution_count": null,
   "metadata": {},
   "outputs": [],
   "source": [
    "max(d['data_pred'],key=)"
   ]
  },
  {
   "cell_type": "code",
   "execution_count": null,
   "metadata": {},
   "outputs": [],
   "source": [
    "max_value_dict = max(d['data_pred'], key=lambda x: x['pre_kwh'])\n",
    "max_value_dict['pre_kwh']\n"
   ]
  },
  {
   "cell_type": "code",
   "execution_count": null,
   "metadata": {},
   "outputs": [],
   "source": [
    "max_hour = max_value_dict['hour']\n",
    "\n",
    "print(\"Hour with max 'pre_kwh':\", max_hour)\n",
    "max_hour"
   ]
  },
  {
   "cell_type": "code",
   "execution_count": null,
   "metadata": {},
   "outputs": [],
   "source": [
    "max_value_dict = max(data_pred['data_pred'], key=lambda x: x['pre_kwh'])\n",
    "\n",
    "# Extract the 'hour' value from the dictionary\n",
    "max_hour = max_value_dict['hour']\n",
    "\n",
    "print(\"Hour with max 'pre_kwh':\", max_hour)"
   ]
  },
  {
   "cell_type": "code",
   "execution_count": null,
   "metadata": {},
   "outputs": [],
   "source": [
    "# data={\"num\":[1,2,3,4,5],\n",
    "#       \"value\":np.nan}\n",
    "data=[]\n",
    "df=pd.DataFrame(data)"
   ]
  },
  {
   "cell_type": "code",
   "execution_count": null,
   "metadata": {},
   "outputs": [],
   "source": [
    "df"
   ]
  },
  {
   "cell_type": "code",
   "execution_count": null,
   "metadata": {},
   "outputs": [],
   "source": [
    "if df.empty is False:\n",
    "    print(\"DataFrame is not empty\")\n",
    "else:\n",
    "    print(\"DataFrame is  empty\")"
   ]
  },
  {
   "cell_type": "code",
   "execution_count": null,
   "metadata": {},
   "outputs": [],
   "source": [
    "x=5\n",
    "if x==0 is False:\n",
    "    print(\" x si not zero\")\n",
    "\n"
   ]
  },
  {
   "cell_type": "code",
   "execution_count": null,
   "metadata": {},
   "outputs": [],
   "source": []
  },
  {
   "cell_type": "code",
   "execution_count": null,
   "metadata": {},
   "outputs": [],
   "source": []
  },
  {
   "cell_type": "code",
   "execution_count": null,
   "metadata": {},
   "outputs": [],
   "source": [
    "l=[1,2,3,4,5]\n",
    "d={\"data\":l}\n",
    "\n",
    "sum=0\n",
    "for i in d['data']:\n",
    "    sum+=i\n",
    "print(sum)\n",
    "\n",
    "val=[i for i in d['data']]\n",
    "print(sum(val))\n",
    "# pr"
   ]
  },
  {
   "cell_type": "code",
   "execution_count": null,
   "metadata": {},
   "outputs": [],
   "source": [
    "numbers = [1,2,3,4,5,1,4,5]\n",
    " \n",
    "Sum = sum(numbers)\n",
    "print(Sum)"
   ]
  },
  {
   "cell_type": "code",
   "execution_count": null,
   "metadata": {},
   "outputs": [],
   "source": [
    "x=datetime.now()\n",
    "s,c=0,0\n",
    "for i in range(100000):\n",
    "    s+=i\n",
    "    c+=1\n",
    "\n",
    "print(s,c)\n",
    "y=datetime.now()\n"
   ]
  },
  {
   "cell_type": "code",
   "execution_count": null,
   "metadata": {},
   "outputs": [],
   "source": [
    "y-x"
   ]
  },
  {
   "cell_type": "code",
   "execution_count": null,
   "metadata": {},
   "outputs": [],
   "source": [
    "x=datetime.now()\n",
    "d={\"data\":[]}\n",
    "l=[]\n",
    "for i in range(100000):\n",
    "    l.append(i)\n",
    "    d['data'].append(len(l))\n",
    "\n",
    "    \n",
    "\n",
    "print(sum(l),len(l))\n",
    "y=datetime.now()\n"
   ]
  },
  {
   "cell_type": "code",
   "execution_count": null,
   "metadata": {},
   "outputs": [],
   "source": [
    "d={\"data\":[]}\n",
    "x=np.array([])\n",
    "for i in range(1,6):\n",
    "    x=np.append(x,i)\n",
    "    d['data'].append(len(x))\n",
    "\n",
    "print(len(x))\n",
    "print(np.sum(x))\n"
   ]
  },
  {
   "cell_type": "code",
   "execution_count": null,
   "metadata": {},
   "outputs": [],
   "source": [
    "print(length_of_x)\n",
    "print(sum_of_x)"
   ]
  },
  {
   "cell_type": "code",
   "execution_count": null,
   "metadata": {},
   "outputs": [],
   "source": []
  },
  {
   "cell_type": "code",
   "execution_count": null,
   "metadata": {},
   "outputs": [],
   "source": []
  },
  {
   "cell_type": "code",
   "execution_count": null,
   "metadata": {},
   "outputs": [],
   "source": [
    "x=20\n",
    "def fn():\n",
    "    try:\n",
    "        if x>20:\n",
    "            return(\"small\")\n",
    "        else:\n",
    "            if x%2==0:\n",
    "                return x==\"even\"\n",
    "            else:\n",
    "                return \"odd\"\n",
    "    finally:    \n",
    "        return x\n",
    "fn()"
   ]
  },
  {
   "cell_type": "code",
   "execution_count": null,
   "metadata": {},
   "outputs": [],
   "source": [
    "from datetime import datetime\n",
    "from dateutil.relativedelta import relativedelta\n",
    "\n",
    "date = '2024-01-29'\n",
    "date_object = ((datetime.strptime(date, '%Y-%m-%d'))- relativedelta(months=1)).month\n",
    "\n",
    "print(date_object)\n"
   ]
  },
  {
   "cell_type": "code",
   "execution_count": null,
   "metadata": {},
   "outputs": [],
   "source": [
    "l=[]\n",
    "print(len(l))"
   ]
  },
  {
   "cell_type": "code",
   "execution_count": null,
   "metadata": {},
   "outputs": [],
   "source": []
  }
 ],
 "metadata": {
  "kernelspec": {
   "display_name": "Python 3",
   "language": "python",
   "name": "python3"
  },
  "language_info": {
   "codemirror_mode": {
    "name": "ipython",
    "version": 3
   },
   "file_extension": ".py",
   "mimetype": "text/x-python",
   "name": "python",
   "nbconvert_exporter": "python",
   "pygments_lexer": "ipython3",
   "version": "3.11.5"
  }
 },
 "nbformat": 4,
 "nbformat_minor": 2
}
